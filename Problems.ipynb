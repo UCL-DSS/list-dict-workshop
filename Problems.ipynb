{
 "cells": [
  {
   "cell_type": "markdown",
   "metadata": {},
   "source": [
    "# \\[PY02\\] Introduction to Python Programming - Problems\n",
    "\n",
    "## Sequences: Lists, Tuples and dictionaries\n",
    "\n",
    "**Author:** Philip Wilkinson, Head of Science (21/22), UCL DSS\n",
    "\n",
    "**Date:** 04 Aug 2021\n",
    "\n",
    "***Proudly presented by the UCL Data Science Society***\n",
    "\n"
   ]
  },
  {
   "cell_type": "markdown",
   "metadata": {},
   "source": [
    "This notebook presents several challenges for you to solve on your own based on the information provided in the workshops and your own googling. The first few challenges require you to fill in blanks given already prepared code. The later few challenges require you to create code completely on your own. Solutions to these challenges can be found in the [Solutions.ipynb](../Solutions.ipynb) notebook.\n",
    "\n",
    "The challenges are given as:\n",
    "\n",
    "## [Challenge 1](#CH1)\n",
    "\n",
    "## [Challenge 2](#CH2)\n",
    "\n",
    "## [Challenge 3](#CH3)\n",
    "\n",
    "## [Challenge 4](#CH4)\n",
    "\n",
    "## [Challenge 5](#CH5)\n",
    "\n",
    "## [Challenge 6](#CH6)\n",
    "\n",
    "Good luck!"
   ]
  },
  {
   "cell_type": "markdown",
   "metadata": {},
   "source": [
    "<a id = \"CH1\"></a>"
   ]
  },
  {
   "cell_type": "markdown",
   "metadata": {},
   "source": [
    "## Challenge 1\n",
    "\n",
    "Fill in the code blocks to answer the questions about lists:"
   ]
  },
  {
   "cell_type": "code",
   "execution_count": null,
   "metadata": {},
   "outputs": [],
   "source": [
    "countries = [\"China\", \"America\", \"Argentina\", \"Spain\", \"Australia\", \"New Zealand\", \"South Africa\"]\n",
    "\n",
    "#print out Argentina from countries\n",
    "print(countries[??])\n",
    "\n",
    "#print out America to Australia from countries\n",
    "print(countries[??])\n",
    "\n",
    "#print out New Zealand using negative indexing\n",
    "print(countries[??])\n",
    "\n",
    "#combine positive and negative indexing to print out Argentina to New Zealand\n",
    "print(countries[??])\n",
    "\n",
    "#replace Argentina with Brazil and print it out\n",
    "countries[??] = ??\n",
    "print(countries[??])\n",
    "\n",
    "#find the index for Spain\n",
    "Spain_index = countries.??(\"Spain\")\n",
    "print(Spain_index)"
   ]
  },
  {
   "cell_type": "markdown",
   "metadata": {},
   "source": [
    "<a id = \"CH2\"></a>"
   ]
  },
  {
   "cell_type": "markdown",
   "metadata": {},
   "source": [
    "## Challenge 2\n",
    "\n",
    "Fill in the code blocks to answer the questions about dictionaries:"
   ]
  },
  {
   "cell_type": "code",
   "execution_count": null,
   "metadata": {},
   "outputs": [],
   "source": [
    "data_scientist = {\"Name\":\"Jessica\",\n",
    "                 \"Age\":32,\n",
    "                 \"Degree\":\"Languages\",\n",
    "                 \"Company\":\"Microsoft\",\n",
    "                 \"Languages\":[\"Python\", \"SQL\", \"Javascript\", \"R\"],\n",
    "                 \"Salary\":40_000,\n",
    "                 \"Experience\":4}\n",
    "\n",
    "#print out the Data Scientists Name\n",
    "print(data_scientist[??])\n",
    "\n",
    "#print out the data scientists age\n",
    "print(data_scientist[??])\n",
    "\n",
    "#print out the data scientists third language\n",
    "print(data_scientist[??][??])\n",
    "\n",
    "#Change the data scientists years of experience to 5\n",
    "data_scientist[??] = ??\n",
    "print(data_scientist[??])\n",
    "\n",
    "#print out all the keys from the dictionary\n",
    "print(data_scientist.??)"
   ]
  },
  {
   "cell_type": "markdown",
   "metadata": {},
   "source": [
    "<a id = \"CH3\"></a>"
   ]
  },
  {
   "cell_type": "markdown",
   "metadata": {},
   "source": [
    "## Challenge 3\n",
    "\n",
    "Fill in the code blocks to answer the questions about sets and tuples:"
   ]
  },
  {
   "cell_type": "code",
   "execution_count": null,
   "metadata": {},
   "outputs": [],
   "source": [
    "# create a set of car manufacturers\n",
    "cars = ??\"Ford\", \"Kia\", \"Ferrari\", \"Mercedes\", \"Tesla\", \"Honda\"??\n",
    "\n",
    "#check whether Maserati in cars set\n",
    "print(??)\n",
    "\n",
    "#if not, add maeserati to cars\n",
    "cars.??(\"Maserati\")\n",
    "\n",
    "#remove Kia from the set\n",
    "cars.??(\"Kia\")\n",
    "\n",
    "#create tuple of vegetables\n",
    "vegetables = ??\"potato\", \"celery\", \"onion\", \"potato\", \"celery\", \"leek\"??\n",
    "\n",
    "#how many potatoes are there in the tuple?\n",
    "print(vegetables.??(\"potato\"))\n",
    "\n",
    "#find the length of the tuple\n",
    "print(??(vegetables))"
   ]
  },
  {
   "cell_type": "markdown",
   "metadata": {},
   "source": [
    "<a id = \"CH4\"></a>"
   ]
  },
  {
   "cell_type": "markdown",
   "metadata": {},
   "source": [
    "## Challenge 4\n",
    "\n",
    "Follow the comments to produce the final outcome:"
   ]
  },
  {
   "cell_type": "code",
   "execution_count": null,
   "metadata": {},
   "outputs": [],
   "source": [
    "#Create a dictionary of dictionaries\n",
    "#Call the main dictionary employees\n",
    "#give each sub dictionary the key of a name i.e. Joe, Jade, Mary\n",
    "#Have keys age, job, experience and languages as keys within each dictionary\n",
    "#use the languages as a list to list programming languages they use\n",
    "\n",
    "\n",
    "#print the first persons experience job from the dictionary\n",
    "\n",
    "#print how may languages the third person knows\n",
    "\n",
    "\n",
    "#Add a new employee with the follownig information:\n",
    "# name - \"Jennie\"\n",
    "# \"Age\":22\n",
    "# \"Job\":\"Intern\"\n",
    "# \"Experience\":1\n",
    "# \"Languages\":[\"Python\", \"SQL\"]\n",
    "\n",
    "\n",
    "#add Ruby as a language to the second persons languages\n",
    "\n",
    "\n",
    "#print the resulting dictionary\n",
    "\n"
   ]
  },
  {
   "cell_type": "markdown",
   "metadata": {},
   "source": [
    "<a id = \"CH5\"></a>"
   ]
  },
  {
   "cell_type": "markdown",
   "metadata": {},
   "source": [
    "## Challenge 5\n",
    "\n",
    "Follow the comments to produce the final outcome:"
   ]
  },
  {
   "cell_type": "code",
   "execution_count": null,
   "metadata": {},
   "outputs": [],
   "source": [
    "# Create a list of scores containing 12, 33, 58, 12, 67, 80, 92, 15, 58 called scores\n",
    "\n",
    "#print the length of the scores\n",
    "\n",
    "\n",
    "#convert the list to a set called unique_scores\n",
    "\n",
    "\n",
    "#print the length of unique_scores\n",
    "\n",
    "\n",
    "#create a new set of scores containing 12, 45, 68, 70, 33, 100 called second_scores\n",
    "\n",
    "\n",
    "#create a new set called scores_intersection that contains duplicates from both sets created\n",
    "\n",
    "#print it out\n",
    "\n",
    "\n",
    "#create a new set called scores_differences that extracts differences in the sets called scores_differences\n",
    "\n",
    "#print out the results\n",
    "\n",
    "\n"
   ]
  },
  {
   "cell_type": "markdown",
   "metadata": {},
   "source": [
    "<a id = \"CH6\"></a>"
   ]
  },
  {
   "cell_type": "markdown",
   "metadata": {},
   "source": [
    "## Challenge 6\n",
    "\n",
    "Follow the comments to produce the final outcome:"
   ]
  },
  {
   "cell_type": "code",
   "execution_count": null,
   "metadata": {},
   "outputs": [],
   "source": [
    "#Create a list called capitals with New york, London, Beijing, Sao Paulo, Paris in\n",
    "\n",
    "\n",
    "#create a list called countries with USA, England, China, Brazil and France in\n",
    "\n",
    "\n",
    "#create a list call populations with 8.4, 9.0, 21.5, 12.3, 2.2 in\n",
    "\n",
    "\n",
    "#join these lists into a dictionary called cities with keys: capitals, countries, populations\n",
    "\n",
    "\n",
    "#use this to find out the population of Paris based on the index of paris within the cities key:value pair\n",
    "#without using the index value\n",
    "\n",
    "\n",
    "#use this to find out the country with a capital that has a population of 21.5 million people \n",
    "#without using the index value\n",
    "\n",
    "\n",
    "#print out the city, country and population for the city with a populatio of 2.2 without using the index value\n"
   ]
  }
 ],
 "metadata": {
  "kernelspec": {
   "display_name": "DSS",
   "language": "python",
   "name": "dss"
  },
  "language_info": {
   "codemirror_mode": {
    "name": "ipython",
    "version": 3
   },
   "file_extension": ".py",
   "mimetype": "text/x-python",
   "name": "python",
   "nbconvert_exporter": "python",
   "pygments_lexer": "ipython3",
   "version": "3.9.6"
  }
 },
 "nbformat": 4,
 "nbformat_minor": 4
}
