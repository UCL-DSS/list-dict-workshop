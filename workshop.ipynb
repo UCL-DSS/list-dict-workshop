{
 "cells": [
  {
   "cell_type": "markdown",
   "metadata": {},
   "source": [
    "# \\[PY02\\] Introduction to Python Programming - workshop\n",
    "\n",
    "## Sequences: Lists, Tuples and dictionaries"
   ]
  },
  {
   "cell_type": "markdown",
   "metadata": {},
   "source": [
    "**Author:** Philip Wilkinson, Head of Science (21/22), UCL DSS\n",
    "\n",
    "**Date:** 04 Aug 2021\n",
    "\n",
    "***Proudly presented by the UCL Data Science Society***"
   ]
  },
  {
   "cell_type": "markdown",
   "metadata": {},
   "source": [
    "<b> Acknowledgement: </b> The content of this workshop is inspired by [W3 schools](https://www.w3schools.com/) introduction to Lists, Tuples, Sets and Dictionaries"
   ]
  },
  {
   "cell_type": "markdown",
   "metadata": {},
   "source": [
    "In this workshop you will be introduced to three key data structures in Python:\n",
    "\n",
    "### 1) [List](#List)\n",
    "\n",
    "### 2) [Tuple](#Tuple)\n",
    "\n",
    "### 3) [Set](#Sets)\n",
    "\n",
    "### 4) [Dictionary](#Dictionary)\n",
    "\n",
    "For this, we will take a closer look into the methods, arrtibutes, their usage and some implementation details of these structures. This should provide you with a thorough introduction into these data structures. even if you are familier with the data structures, the workshop might be able to give you some useful insight into why things are done in a certain way or learning a new method that you could use in your own implementation.\n",
    "\n",
    "For this, some key phrases are useful to understand:\n",
    "\n",
    "- <b>Mutable</b>: This means that the item can be changed. The opposite is immutable which means once the object has been created it cannot be changed\n",
    "- <b>Ordered</b>: This means that the way in which the items are stored will not be changed and can be accessed by knowing which order the item is stored in. The opposite of this is unordered where the items stored cannot be accessed by the order that they were placed in.\n",
    "- <b>Indexable</b>: This means that items can be accessed based on the order that they were introduced into the item using the index. This is only applicable for ordered objects.\n",
    "\n",
    "It is useful to note the key attributes of data structures and what this can mean for their usefulness in term of both Python application and their presence in data science applications. While the majority of data science applications will use some form of the Pandas Dataframe that you will learn about in a future workshop, it is nonetheless useful to note what can be done with these other datatypes.\n"
   ]
  },
  {
   "cell_type": "markdown",
   "metadata": {},
   "source": [
    "<a id = \"List\"><a>"
   ]
  },
  {
   "cell_type": "markdown",
   "metadata": {},
   "source": [
    "## List\n",
    "\n",
    "The first datastructure that we encounter is that of a list. \n",
    "\n",
    "Lists can be used to store multiple items in a single variable and effectively act as you would expect a normal written list to behave. They are one of the 4 in-built data types in Python that can be used to store collections of data, alongside Tuples, Sets and dictionaries.\n",
    "\n",
    "The key charactersitics of lists are that they are:\n",
    "\n",
    "- Mutable\n",
    "- Ordered\n",
    "- Indexable \n",
    "\n",
    "and they can contain duplicate records. These characteristics are important for how lists are actually used in a programming sense as we will see later on.\n",
    "\n",
    "Firstly, we can understand how to create a list. As we have already encountered in the fundamentals lecture we can assign variables using the `=` sign. To create a list, we can use two main methods: using `[]` to enclose all that we want to contain, or using the `list()` method as can be seen:"
   ]
  },
  {
   "cell_type": "code",
   "execution_count": 1,
   "metadata": {},
   "outputs": [],
   "source": [
    "#create a list of Fruit using the [] notation\n",
    "fruit_list = [\"Apple\", \"Banana\", \"Peach\"]\n",
    "\n",
    "#creating a list of vegetables using the list() nottation\n",
    "vegetable_list = list([\"Pepper\", \"Courgette\", \"Aubergine\"])"
   ]
  },
  {
   "cell_type": "markdown",
   "metadata": {},
   "source": [
    "While it is notable that using the `list()` notation we had to use `[]` anyway as the function can only take one argument, this is useful for when we want to convert other datatypes to lists, for example other sequences or results from functions.\n",
    "\n",
    "We can check the results of these to ensure that they are lists by using the `type()` function, and printing out the results of the lists themselves:"
   ]
  },
  {
   "cell_type": "code",
   "execution_count": 2,
   "metadata": {},
   "outputs": [
    {
     "name": "stdout",
     "output_type": "stream",
     "text": [
      "<class 'list'>\n",
      "['Apple', 'Banana', 'Peach']\n",
      "\n",
      "\n",
      "<class 'list'>\n",
      "['Pepper', 'Courgette', 'Aubergine']\n"
     ]
    }
   ],
   "source": [
    "#examine the fruit list\n",
    "print(type(fruit_list))\n",
    "print(fruit_list)\n",
    "\n",
    "#print a seperate line\n",
    "print(\"\\n\")\n",
    "\n",
    "#print the vegetable list\n",
    "print(type(vegetable_list))\n",
    "print(vegetable_list)"
   ]
  },
  {
   "cell_type": "markdown",
   "metadata": {},
   "source": [
    "We can see here that the `class` attribute for both of these is given as lists. We can also see that when we print out the lists that they are printed in the square brackets and in the same order that we inputted them in, indicating that these are indeed lists and that they are ordered."
   ]
  },
  {
   "cell_type": "markdown",
   "metadata": {},
   "source": [
    "If you try to create a list without the `[]` brackets you will see that errors appear:"
   ]
  },
  {
   "cell_type": "code",
   "execution_count": 3,
   "metadata": {},
   "outputs": [
    {
     "ename": "TypeError",
     "evalue": "list expected at most 1 argument, got 3",
     "output_type": "error",
     "traceback": [
      "\u001b[1;31m---------------------------------------------------------------------------\u001b[0m",
      "\u001b[1;31mTypeError\u001b[0m                                 Traceback (most recent call last)",
      "\u001b[1;32m~\\AppData\\Local\\Temp/ipykernel_31012/2572559944.py\u001b[0m in \u001b[0;36m<module>\u001b[1;34m\u001b[0m\n\u001b[0;32m      1\u001b[0m \u001b[1;31m#create a list wrong\u001b[0m\u001b[1;33m\u001b[0m\u001b[1;33m\u001b[0m\u001b[1;33m\u001b[0m\u001b[0m\n\u001b[1;32m----> 2\u001b[1;33m \u001b[0msandwhich_ingredients\u001b[0m \u001b[1;33m=\u001b[0m \u001b[0mlist\u001b[0m\u001b[1;33m(\u001b[0m\u001b[1;34m\"Ham\"\u001b[0m\u001b[1;33m,\u001b[0m \u001b[1;34m\"Egg\"\u001b[0m\u001b[1;33m,\u001b[0m \u001b[1;34m\"Cheese\"\u001b[0m\u001b[1;33m)\u001b[0m\u001b[1;33m\u001b[0m\u001b[1;33m\u001b[0m\u001b[0m\n\u001b[0m",
      "\u001b[1;31mTypeError\u001b[0m: list expected at most 1 argument, got 3"
     ]
    }
   ],
   "source": [
    "#create a list wrong\n",
    "sandwhich_ingredients = list(\"Ham\", \"Egg\", \"Cheese\")"
   ]
  },
  {
   "cell_type": "markdown",
   "metadata": {},
   "source": [
    "We can see here that this printed out a `TypeError`, noting that it said the list function expected at most 1 argument, got 3. This is because square brackets were not used to tell it that all the items were part of a single list. \n",
    "\n",
    "Another key aspect of lists is that they can contain all different types of datatypes. Although we only used used strings above, we can also input numbers or floats into lists:"
   ]
  },
  {
   "cell_type": "code",
   "execution_count": null,
   "metadata": {},
   "outputs": [],
   "source": [
    "#create a list of just numbers\n",
    "num_list = [1, 2, 3, 4]\n",
    "\n",
    "#create a list of just floats\n",
    "float_list = [1.2, 2.3, 4.5, 6.8]\n",
    "\n",
    "#print the results\n",
    "print(type(num_list))\n",
    "print(num_list)\n",
    "\n",
    "print(\"\\n\")\n",
    "\n",
    "print(type(float_list))\n",
    "print(float_list)"
   ]
  },
  {
   "cell_type": "markdown",
   "metadata": {},
   "source": [
    "We can also input different datatypes within lists, they don't all have to be the same, so that we can even put lists within lists as seen below:"
   ]
  },
  {
   "cell_type": "code",
   "execution_count": null,
   "metadata": {},
   "outputs": [],
   "source": [
    "#different list\n",
    "random_list = [\"Hello\", 3, \"Cheese\", 6.2, [1,2,3]]\n",
    "\n",
    "#print the result\n",
    "print(type(random_list))\n",
    "print(random_list)\n"
   ]
  },
  {
   "cell_type": "markdown",
   "metadata": {},
   "source": [
    "An important part of lists is that they are ordered collections of data, and that the values within each list are changeable and duplicate values are allowed.\n",
    "\n",
    "Firstly, in terms of order, we say lists are ordered in that they have a clearly defined order and that order will not change unless we tell it to change or be changed. If you decide to add things to list, they will be placed at the end for example.\n",
    "\n",
    "This order allows us to access values from the list that we know are in a set position of that order. For example, if for our fruit list we ordered them by where we would pass them on our weekly shopping trip and we know the first fruit will appear first but not what it is, we can access this using the index of the list. Of course, since this is Python, everything begins with an index of 0, so that we can access the first item with the following notation:"
   ]
  },
  {
   "cell_type": "code",
   "execution_count": null,
   "metadata": {},
   "outputs": [],
   "source": [
    "#access the first item from the list\n",
    "print(fruit_list[0])"
   ]
  },
  {
   "cell_type": "markdown",
   "metadata": {},
   "source": [
    "For this we can see that square notation was used to put the number of the index in `[0]` which is how we access the first index."
   ]
  },
  {
   "cell_type": "markdown",
   "metadata": {},
   "source": [
    "Following this example, and counting up, the second item in the list can be accessed using `[1]` with the third being accessed using `[2]`. So you must remember that when you want to access an item from the list, the index that you use would be one less than the actual number of the item. For example"
   ]
  },
  {
   "cell_type": "code",
   "execution_count": null,
   "metadata": {},
   "outputs": [],
   "source": [
    "#print the fruit from the list\n",
    "print(fruit_list[1])\n",
    "\n",
    "#print the third vegetable from the list\n",
    "print(fruit_list[2])"
   ]
  },
  {
   "cell_type": "markdown",
   "metadata": {},
   "source": [
    "For this, anything that resolves to a number can be used to access something from a list, as long as that index belongs in the list you are trying to access. So in our example of fruit list we only have three fruit, but if you tried to use the index of 3 you would get:"
   ]
  },
  {
   "cell_type": "code",
   "execution_count": null,
   "metadata": {},
   "outputs": [],
   "source": [
    "third_fruit = fruit_list[3]"
   ]
  },
  {
   "cell_type": "markdown",
   "metadata": {},
   "source": [
    "An index error, as the list index is out of the range. This is another informative error as if you get this error it tells you that your list is not as long as you think it is or something is missing from your list.\n",
    "\n",
    "Something interesting about this however is that not only can we count forward, we can also count backward over lists. This means that not only can we access lists from the beginning using indexes we can also access lists from the end. For example, if you created a list that went up in scores but you were interested in the second largest score, you could access this as follows:"
   ]
  },
  {
   "cell_type": "code",
   "execution_count": null,
   "metadata": {},
   "outputs": [],
   "source": [
    "#create a list of scores\n",
    "scores = [12,42,62,65,73,84,89,91,94]\n",
    "\n",
    "#extract the second highest score\n",
    "second_highest_score = scores[-2]\n",
    "\n",
    "#rpint the result\n",
    "print(second_highest_score)"
   ]
  },
  {
   "cell_type": "markdown",
   "metadata": {},
   "source": [
    "Of course, in doing so instead of also starting at 0, which would create confusion as to whether you wanted to access the first or last entry of the list, you start from -1 and then increase the further from the end you want to access.\n",
    "\n",
    "Finally, in terms of using indexes to access things in a list, you can also access more than one element at a time using a slice. This is important as a slice allows you to acccess a range of items in a list by using the notation `list[start index: end index]` where it is important to note that the end index will not actually be returned in the slice."
   ]
  },
  {
   "cell_type": "code",
   "execution_count": null,
   "metadata": {},
   "outputs": [],
   "source": [
    "#second lowest to fifth lowest\n",
    "print(scores[1:5])\n",
    "\n",
    "#print second lowest\n",
    "print(scores[1:2])\n",
    "\n",
    "#print the fifth lowest to the highest\n",
    "print(scores[5:])\n",
    "\n",
    "#print the third highest to the highest\n",
    "print(scores[-3:])\n",
    "\n",
    "#print from beginning to end\n",
    "print(scores[:])\n",
    "\n",
    "#print every 2nd \n",
    "print(scores[::2])\n",
    "\n",
    "#print the list in reverse\n",
    "print(scores[::-1])"
   ]
  },
  {
   "cell_type": "markdown",
   "metadata": {},
   "source": [
    "We can see from above several different rules that apply to this:\n",
    "\n",
    "- When printing the second lowest item using `[1:2]` given that the final index is not included in the result is why only one item was returned\n",
    "- When printing `[5:]` the fact that we did not specify an end index is why the whole of the list after and including the fifth index was printed\n",
    "- When printing `[::2]` using the second `:` allowed us to specify the jumps between indexes that is why every 2nd item was shown\n",
    "\n",
    "It is also important to note that a slice will always return a list, even if it is just containing one thing. This is important so that you know what type of output is produced and what you can then do with it.\n",
    "\n",
    "Finally, in terms of accessing things from lists, what if we know what we want to access from a list but we don't know where it was in the list? If we knew we had Bannana in the fruit list but we forgot the order of it in the list, we could find that using the index method:"
   ]
  },
  {
   "cell_type": "code",
   "execution_count": null,
   "metadata": {},
   "outputs": [],
   "source": [
    "#find the index of banan\n",
    "print(fruit_list.index(\"Banana\"))\n",
    "\n",
    "#find the index of peach\n",
    "print(fruit_list.index(\"Peach\"))"
   ]
  },
  {
   "cell_type": "markdown",
   "metadata": {},
   "source": [
    "This can be useful if you forget the location of your item, but also if you have lists where the order is related to each other. For example, if the scores list was linked to a list of names, you could find the index of the name and then use that to access their score from another list.\n",
    "\n",
    "The only issue with this is that if you mispel the item or the item is not in the list, the method will throw an error and will stop the code from running:"
   ]
  },
  {
   "cell_type": "code",
   "execution_count": null,
   "metadata": {},
   "outputs": [],
   "source": [
    "print(fruit_list.index(\"Orange\"))"
   ]
  },
  {
   "cell_type": "markdown",
   "metadata": {},
   "source": [
    "For this, there are many ways around this but one simple way is to use an if/else statement that will be explained in later lectures. For now, this is done using:"
   ]
  },
  {
   "cell_type": "code",
   "execution_count": null,
   "metadata": {},
   "outputs": [],
   "source": [
    "if \"Banana\" in fruit_list:\n",
    "    print(\"Banana is at index:\", fruit_list.index(\"Banana\"))\n",
    "else:\n",
    "    print(\"Banana not in list\")"
   ]
  },
  {
   "cell_type": "markdown",
   "metadata": {},
   "source": [
    "Beyond just accessing what is in a list there are many other things lists are good at, including multiple methods we can use in conjunction with lists to make them more useful.\n",
    "\n",
    "One of the more important things about lists is that they are \"mutable\" which simply means that items within a list can be changed, including changing individual results, inserting new things into the middle of lists or even sorting them:"
   ]
  },
  {
   "cell_type": "code",
   "execution_count": null,
   "metadata": {},
   "outputs": [],
   "source": [
    "scores = [12,42,62,65,73,84,89,91,94]\n",
    "#we can change the score at the second index\n",
    "\n",
    "#print the second lowest score\n",
    "print(\"Original score:\", scores[1])\n",
    "\n",
    "#reassign the score\n",
    "scores[1] = 52\n",
    "\n",
    "#check the reassignment\n",
    "print(\"Changed score:\", scores[1])"
   ]
  },
  {
   "cell_type": "code",
   "execution_count": null,
   "metadata": {},
   "outputs": [],
   "source": [
    "#we can add a new score at the end using the append function\n",
    "print(\"Original scores\", scores)\n",
    "\n",
    "#add new score\n",
    "scores.append(67)\n",
    "\n",
    "#print the new scores\n",
    "print(\"New scores\", scores)\n",
    "\n",
    "#or add new scores in a specific position\n",
    "scores.insert(3, 48)\n",
    "\n",
    "#print the newer scores\n",
    "print(\"Newer scores\", scores)"
   ]
  },
  {
   "cell_type": "code",
   "execution_count": null,
   "metadata": {},
   "outputs": [],
   "source": [
    "#we can remove a score from the list\n",
    "print(\"Original scores\", scores)\n",
    "\n",
    "#remove the score of 89\n",
    "scores.remove(89)\n",
    "\n",
    "#print the new score\n",
    "print(\"New scores\", scores)\n",
    "\n",
    "#alternative methods for removal include:\n",
    "\n",
    "# the pop() method removes the specified index\n",
    "# scores.pop(1)\n",
    "\n",
    "# If you do not specify an index the pop() method removes the last item\n",
    "# scores.pop()\n",
    "\n",
    "# we can also completely clear the list\n",
    "# scores.clear()"
   ]
  },
  {
   "cell_type": "markdown",
   "metadata": {},
   "source": [
    "At this point, after changing scores, adding new ones and removing some, the list of scores is no longer the same to what we had it before. This includes how long it is and the fact that scores are no longer in smallest to larger order. \n",
    "\n",
    "We can rectify the first issue by finding the length of the list using the `len()` function, which tells us how long the list is:"
   ]
  },
  {
   "cell_type": "code",
   "execution_count": null,
   "metadata": {},
   "outputs": [],
   "source": [
    "print(len(scores))"
   ]
  },
  {
   "cell_type": "markdown",
   "metadata": {},
   "source": [
    "So now we know we have ten scores, but they are no longer in the same order as they were before from smallest to largest. Again, we can rectify this using either the `sort()` function or the `sorted()` method:"
   ]
  },
  {
   "cell_type": "code",
   "execution_count": null,
   "metadata": {},
   "outputs": [],
   "source": [
    "#print current scores\n",
    "print(scores)\n",
    "\n",
    "#we can assign the new sorted list to a new list as follows:\n",
    "new_sorted_scores = sorted(scores)\n",
    "print(new_sorted_scores)\n",
    "\n",
    "#or we can sort the list itself\n",
    "scores.sort()\n",
    "print(scores)\n",
    "\n",
    "#we can even sort it in descending order\n",
    "scores.sort(reverse = True)\n",
    "print(scores)\n",
    "#or by using scores.reverse()"
   ]
  },
  {
   "cell_type": "markdown",
   "metadata": {},
   "source": [
    "Finally, we can add lists together by simply using the add method, or using the `extend` method to add to an existing list:"
   ]
  },
  {
   "cell_type": "code",
   "execution_count": null,
   "metadata": {},
   "outputs": [],
   "source": [
    "Names1 = [\"Peter\", \"Geneva\", \"John\"]\n",
    "Names2 = [\"Katie\", \"Suzie\", \"Scott\"]\n",
    "\n",
    "#add lists together using +\n",
    "added_names = Names1 + Names2\n",
    "print(added_names)\n",
    "\n",
    "#add lists together by extending one list\n",
    "Names1.extend(Names2)\n",
    "print(Names1)\n",
    "\n",
    "#add the same list together by multiplying it by itself\n",
    "double_names = Names2 * 2\n",
    "print(double_names)"
   ]
  },
  {
   "cell_type": "markdown",
   "metadata": {},
   "source": [
    "Thus, what we now know about lists are that they are ordered, they are changeable and they can contain duplicate values. This means that lists are very versatile and act as the basis for a lot of data storage methods because of this. "
   ]
  },
  {
   "cell_type": "markdown",
   "metadata": {},
   "source": [
    "### Challenges"
   ]
  },
  {
   "cell_type": "code",
   "execution_count": null,
   "metadata": {},
   "outputs": [],
   "source": [
    "#create a list called names with: \"Juliet\", \"James\", \"Steven\", \"Sarah\", \"Suzie\"\n",
    "\n",
    "#extract the third name from the list\n",
    "\n",
    "#extract the second to fourth name using slicing\n",
    "\n",
    "#extract the last name from teh list\n",
    "\n",
    "#print the length of the string\n",
    "\n",
    "#add \"Sasha\" to the list"
   ]
  },
  {
   "cell_type": "markdown",
   "metadata": {},
   "source": [
    "<a id = \"Tuple\"></a>"
   ]
  },
  {
   "cell_type": "markdown",
   "metadata": {},
   "source": [
    "## Tuples\n",
    "\n",
    "The second sequence in the list that we will explore is that of the Tuple.\n",
    "\n",
    "Tuples are similar objects to that of lists in that they are ordered and indexable meaning that information from a tuple can be accssed in the same way that lists can be. However the main differences between tuples are lists is that they are immutable, meaning that they cannot be changed, and they are created using `()` instead of `[]`. \n",
    "\n",
    "We can create our first tuple as follows:"
   ]
  },
  {
   "cell_type": "code",
   "execution_count": null,
   "metadata": {},
   "outputs": [],
   "source": [
    "#create the tuple\n",
    "cars = (\"Ford\", \"Hyundai\", \"Toyata\", \"Kia\")\n",
    "\n",
    "#create a second tuple\n",
    "fruits_tuple = tuple((\"Strawberry\", \"peach\", \"tomato\"))\n",
    "\n",
    "#create the second tuple\n",
    "vegetable_tuple = tuple([\"potato\", \"onion\", \"celery\"])\n",
    "\n",
    "#print the result\n",
    "print(cars)\n",
    "print(type(cars))\n",
    "\n",
    "print(fruits_tuple)\n",
    "print(type(fruits_tuple))\n",
    "\n",
    "print(vegetable_tuple)\n",
    "print(type(vegetable_tuple))"
   ]
  },
  {
   "cell_type": "markdown",
   "metadata": {},
   "source": [
    "As already mentioned, like lists they are ordered and do allow duplicate values. This means that we can access information from tuples in the same way we would with lists uinsg the index:"
   ]
  },
  {
   "cell_type": "code",
   "execution_count": null,
   "metadata": {},
   "outputs": [],
   "source": [
    "#get the first item from the tuple\n",
    "print(cars[0])\n",
    "\n",
    "#get the last item from the tuple\n",
    "print(cars[-1])\n",
    "\n",
    "#get the second and third from the tuple\n",
    "print(cars[1:3])\n",
    "\n",
    "#get all from the first index\n",
    "print(cars[1:])\n",
    "\n",
    "#get all until the fourth one\n",
    "print(cars[:3])"
   ]
  },
  {
   "cell_type": "markdown",
   "metadata": {},
   "source": [
    "Also like lists, whenever a slice is taken the type of the slice will be the same as the type of object you are taking a slice of. Here, because we are taken a slice of a tuple, a tuple is returned."
   ]
  },
  {
   "cell_type": "markdown",
   "metadata": {},
   "source": [
    "Finally, since they are indexed, we can include duplicate values because we can identify them with the index value as follows:"
   ]
  },
  {
   "cell_type": "code",
   "execution_count": null,
   "metadata": {},
   "outputs": [],
   "source": [
    "cars2 = (\"Ford\", \"Hyundai\", \"Toyota\", \"Kia\", \"Ford\")\n",
    "\n",
    "#print for\n",
    "print(cars2[0])\n",
    "print(cars2[-1])\n",
    "print(cars2)"
   ]
  },
  {
   "cell_type": "markdown",
   "metadata": {},
   "source": [
    "Again, like lists, if we don't know the order but we know the value we can find the value using the `index()` method:"
   ]
  },
  {
   "cell_type": "code",
   "execution_count": null,
   "metadata": {},
   "outputs": [],
   "source": [
    "#get the index for Hyundai\n",
    "print(cars2.index(\"Hyundai\"))\n",
    "\n",
    "#get the index of the ford\n",
    "print(cars2.index(\"Ford\"))"
   ]
  },
  {
   "cell_type": "markdown",
   "metadata": {},
   "source": [
    "Although it is important to note that when accessing the index for the duplicate value, the `index()` method will only return the index of the first index of that value."
   ]
  },
  {
   "cell_type": "markdown",
   "metadata": {},
   "source": [
    "Given that tuples are immutable meaning that they cannot be changed when they have been created there is one way around this. This is done by firstly converting them into a list, update the value and then convert it back to a tuple:"
   ]
  },
  {
   "cell_type": "code",
   "execution_count": null,
   "metadata": {},
   "outputs": [],
   "source": [
    "#print the tuple\n",
    "print(cars)\n",
    "\n",
    "#change it to a list\n",
    "tuple_list = list(cars)\n",
    "\n",
    "#change the value\n",
    "tuple_list[0] = \"Maserati\"\n",
    "\n",
    "#reassign back to the tuple\n",
    "cars = tuple(tuple_list)\n",
    "\n",
    "#print the result\n",
    "print(cars)"
   ]
  },
  {
   "cell_type": "markdown",
   "metadata": {},
   "source": [
    "Of course, if you wanted to do this then you should have created a list in the first place. \n",
    "\n",
    "The only other way to change a tuple is to join two tuples together to form a new tuple. This of course means that the only change you can make to a tuple is adding things on at the end or the beginning, not changing any values inside the tuple itself:"
   ]
  },
  {
   "cell_type": "code",
   "execution_count": null,
   "metadata": {},
   "outputs": [],
   "source": [
    "#create new tuples\n",
    "tuple1 = (\"a\", \"b\", \"c\")\n",
    "tuple2 = (1,2,3)\n",
    "\n",
    "#add together using the +\n",
    "tuple3 = tuple1 + tuple2\n",
    "print(tuple3)\n",
    "\n",
    "#multiply an existing tuple together \n",
    "tuple4 = tuple1*2\n",
    "print(tuple4)"
   ]
  },
  {
   "cell_type": "markdown",
   "metadata": {},
   "source": [
    "Finally, we have seversal inbuilt functions as part of tuples, just like we do for lists:"
   ]
  },
  {
   "cell_type": "code",
   "execution_count": null,
   "metadata": {},
   "outputs": [],
   "source": [
    "#print the length of the tuple\n",
    "print(len(tuple1))\n",
    "\n",
    "#print the count of values within a tuple\n",
    "print(tuple4.count(\"a\"))\n",
    "\n",
    "#print the maximum value from a tuple\n",
    "print(max(tuple2))\n",
    "\n",
    "#print the minimum value from a tuple\n",
    "print(min(tuple2))"
   ]
  },
  {
   "cell_type": "markdown",
   "metadata": {},
   "source": [
    "The tuple is clearly similar to a list in its nature in that it is ordered so that data can be accessed using the index value. However it is primarily different to a list in that it cannot be changed. This means that it can be used in instances where you don't want any information to be changed after it has already been created. An example of this may be when you don't want results from an experiment to be overwritten, for initial values to be changed or for security reasons. "
   ]
  },
  {
   "cell_type": "markdown",
   "metadata": {},
   "source": [
    "### Challenges"
   ]
  },
  {
   "cell_type": "code",
   "execution_count": null,
   "metadata": {},
   "outputs": [],
   "source": [
    "### Create a tuple called companies with: \"Apple\", \"Microsoft\", \"Google\", \"Facebook\", \"Amazon\"\n",
    "\n",
    "### extract the second to the fourth from the tuple\n",
    "\n",
    "###extract the len of the tupe\n",
    "\n",
    "### mutliply the tuple by 3"
   ]
  },
  {
   "cell_type": "markdown",
   "metadata": {},
   "source": [
    "<a id = \"sets\"></a>"
   ]
  },
  {
   "cell_type": "markdown",
   "metadata": {},
   "source": [
    "## Sets\n",
    "\n",
    "Sets are another data structure that you can use to store multiple items in a single variable, just like lists. However there are four main differences:\n",
    "- Sets are created using curly brackets or using the set() constructor\n",
    "- They are unordered\n",
    "- They are unindexed \n",
    "- They cannot allow duplicate values\n",
    "\n",
    "This is important for how they are used. For example, lets create a set of fruits:"
   ]
  },
  {
   "cell_type": "code",
   "execution_count": null,
   "metadata": {},
   "outputs": [],
   "source": [
    "#create a set using curly brackets\n",
    "fruits = {\"apple\", \"banana\", \"cherry\"}\n",
    "\n",
    "#create a set using the set constructor\n",
    "vegetables = set((\"courgette\", \"potato\", \"aubergine\"))\n",
    "\n",
    "#print the results\n",
    "print(fruits)\n",
    "print(vegetables)"
   ]
  },
  {
   "cell_type": "markdown",
   "metadata": {},
   "source": [
    "From this we can see that we created the set using the `{}` notation. We can also see that when printing the set, it did not appear in the same order as what the data was inputted. This relates to the fact that it is unordered so the items in a set will not always appear in the same order you see them. "
   ]
  },
  {
   "cell_type": "markdown",
   "metadata": {},
   "source": [
    "This then brings us onto the fact that they are unindexed. The fact that they are unindexed means that they cannot be accessed in the same way that they would be with a list because we have no guaranteed that they would stay in the same position. Thus, there are two main ways to check whether an item is in the set or not:"
   ]
  },
  {
   "cell_type": "code",
   "execution_count": null,
   "metadata": {},
   "outputs": [],
   "source": [
    "#use a loop to iteratre over the set\n",
    "for x in fruits:\n",
    "    print(x)\n",
    "    \n",
    "#or check whether the fruit you want is in the set\n",
    "print(\"apple\" in fruits)\n",
    "#which acts the same way as if it were in a list"
   ]
  },
  {
   "cell_type": "markdown",
   "metadata": {},
   "source": [
    "What this means is that while lists are changeable, sets are not, because we cannot access thing in the same way that we would otherwise. Instead, the only way to change the set is to add or remove items:"
   ]
  },
  {
   "cell_type": "code",
   "execution_count": null,
   "metadata": {},
   "outputs": [],
   "source": [
    "#we can add using the add method\n",
    "fruits.add(\"cherry\")\n",
    "\n",
    "#check the updated set\n",
    "print(fruits)\n",
    "\n",
    "#we can add another set to the original set\n",
    "tropical = {\"pineapple\", \"mango\", \"papaya\"}\n",
    "fruits.update(tropical)\n",
    "\n",
    "#print the updated set\n",
    "print(fruits)\n",
    "\n",
    "#we can also use the update method to add any iterable object (tuples, lists, dictionaries etc.)\n",
    "new_veg = [\"onion\", \"celery\"]\n",
    "vegetables.update(new_veg)\n",
    "\n",
    "print(vegetables)"
   ]
  },
  {
   "cell_type": "markdown",
   "metadata": {},
   "source": [
    "There are also several ways of removing items from sets as well:"
   ]
  },
  {
   "cell_type": "code",
   "execution_count": null,
   "metadata": {},
   "outputs": [],
   "source": [
    "#we can use the remove method\n",
    "fruits.remove(\"apple\")\n",
    "\n",
    "print(fruits)\n",
    "#the issue with this is if the item does not exist remove() will raise an error\n",
    "\n",
    "#or the discard method\n",
    "fruits.discard(\"mango\")\n",
    "#this does not raise an error\n",
    "\n",
    "print(fruits)\n",
    "\n",
    "#finally we can also use the pop method\n",
    "#but since this is unordered it will remove the last item\n",
    "#and we also don't know which item will be removed\n",
    "fruit_removed = fruits.pop()\n",
    "\n",
    "print(fruit_removed)\n",
    "print(fruits)\n",
    "\n",
    "#finally we can clear the set using teh cleaer method\n",
    "fruits.clear()\n",
    "print(fruits)\n",
    "\n",
    "#or delete the set completely\n",
    "del fruits\n",
    "\n",
    "print(fruits)"
   ]
  },
  {
   "cell_type": "markdown",
   "metadata": {},
   "source": [
    "Finally, the last important thing about sets is that they cannot contain duplicate values. This is beneficial when we don't want to contain duplicates like names, and can be used to find the unique values contained within given information. If we try to add duplicates:"
   ]
  },
  {
   "cell_type": "code",
   "execution_count": null,
   "metadata": {},
   "outputs": [],
   "source": [
    "cars = {\"Ford\", \"Chevrolet\", \"Toyota\", \"Hyundai\", \"Volvo\", \"Ford\"}\n",
    "\n",
    "print(cars)"
   ]
  },
  {
   "cell_type": "markdown",
   "metadata": {},
   "source": [
    "It will simply remove the duplicate from the set and will show only unique items. \n",
    "\n",
    "This has important implications for when we want to join two sets and there are multiple methods of doing so:"
   ]
  },
  {
   "cell_type": "code",
   "execution_count": null,
   "metadata": {},
   "outputs": [],
   "source": [
    "set1 = {1, 2, 3}\n",
    "set2 = {\"one\", \"two\", \"three\"}\n",
    "\n",
    "#we can use union to return a new set with all items from both sets\n",
    "set3 = set1.union(set2)\n",
    "print(set3)\n",
    "\n",
    "#or we can use update to insert items in set2 into set 1\n",
    "set1.update(set2)\n",
    "print(set1)"
   ]
  },
  {
   "cell_type": "markdown",
   "metadata": {},
   "source": [
    "In merging, we can also make sure we keep only the duplicates:"
   ]
  },
  {
   "cell_type": "code",
   "execution_count": null,
   "metadata": {},
   "outputs": [],
   "source": [
    "fruits = {\"apple\", \"banana\", \"cherry\"}\n",
    "companies = {\"google\", \"microsoft\", \"apple\"}\n",
    "\n",
    "#y creating a new set that contains only the duplicates\n",
    "both = fruits.intersection(companies)\n",
    "\n",
    "print(both)\n",
    "\n",
    "#or keep only items that are present in both sets\n",
    "fruits.intersection_update(companies)\n",
    "\n",
    "print(fruits)"
   ]
  },
  {
   "cell_type": "markdown",
   "metadata": {},
   "source": [
    "Of we can do the reverse and extract anything bu duplicates:"
   ]
  },
  {
   "cell_type": "code",
   "execution_count": null,
   "metadata": {},
   "outputs": [],
   "source": [
    "fruits = {\"apple\", \"banana\", \"cherry\"}\n",
    "companies = {\"google\", \"microsoft\", \"apple\"}\n",
    "\n",
    "#y creating a new set that contains no duplicate\n",
    "both = fruits.symmetric_difference(companies)\n",
    "\n",
    "print(both)\n",
    "\n",
    "#or keep only items that are present in both sets\n",
    "fruits.symmetric_difference_update(companies)\n",
    "\n",
    "print(fruits)"
   ]
  },
  {
   "cell_type": "markdown",
   "metadata": {},
   "source": [
    "Thus we can see that sets are unique in that they are unordered, unindexed and do not allow duplicate values. The latter is an important characteristic as they can be used when we want to extract only the unique items from something, rather than having multiple instances of it such as names, but cannot be used when we may want to retain a certain order within the dataset."
   ]
  },
  {
   "cell_type": "markdown",
   "metadata": {},
   "source": [
    "### Challenges"
   ]
  },
  {
   "cell_type": "code",
   "execution_count": null,
   "metadata": {},
   "outputs": [],
   "source": [
    "# Create a set called sports with: \"Basketball\", \"Football\", \"Netball\", \"Baseball\", \"Ice Hockey\"\n",
    "\n",
    "# check to see if \"Athletics\" in set\n",
    "\n",
    "# Add \"Hockey\" to the set"
   ]
  },
  {
   "cell_type": "markdown",
   "metadata": {},
   "source": [
    "<a id = \"Dictionary\"></a>"
   ]
  },
  {
   "cell_type": "markdown",
   "metadata": {},
   "source": [
    "## Dictionaries\n",
    "\n",
    "Dictionaries the final data stcuture that you can use to store information, like the lists, tuples and sets already introduced. They are known as a collection which is ordered, changeable and does not allow duplicate values (at least in the keys)\n",
    "\n",
    "The primary difference between the previous data structures is that data is stored in key:value pairs and are written with curly brackets rather than square or normal brackets. We can create a dictionary as follows:"
   ]
  },
  {
   "cell_type": "code",
   "execution_count": null,
   "metadata": {},
   "outputs": [],
   "source": [
    "new_dict = {\"Name\":\"Peter Jones\",\n",
    "           \"Age\":28,\n",
    "           \"Occupation\":\"Data Scientist\"}\n",
    "\n",
    "print(new_dict)"
   ]
  },
  {
   "cell_type": "markdown",
   "metadata": {},
   "source": [
    "What we can see here is that we have the \"key\" which can be used to access the \"values\". For example, if we wanted to know the name of the person stored in this dictionary we can access it using the \"key\":"
   ]
  },
  {
   "cell_type": "code",
   "execution_count": null,
   "metadata": {},
   "outputs": [],
   "source": [
    "#the first way is as we would with a list\n",
    "print(new_dict[\"Name\"])\n",
    "\n",
    "#however we can also use .get()\n",
    "print(new_dict.get(\"Name\"))\n",
    "\n",
    "#the difference between the two is that for get if the key\n",
    "#does not exist an error will not be triggered, while for \n",
    "#the first method an error will be\n",
    "#try for yourself:\n",
    "print(new_dict.get(\"colour\"))\n",
    "#print(new_dict[\"colour\"])"
   ]
  },
  {
   "cell_type": "markdown",
   "metadata": {},
   "source": [
    "Accessing information this way means that we can't have duplicates in the dataset as we wouldn't know what we would be accessing:"
   ]
  },
  {
   "cell_type": "code",
   "execution_count": null,
   "metadata": {},
   "outputs": [],
   "source": [
    "second_dict = {\"Name\":\"William\",\n",
    "              \"Name\":\"Jessica\"}\n",
    "\n",
    "print(second_dict[\"Name\"])"
   ]
  },
  {
   "cell_type": "markdown",
   "metadata": {},
   "source": [
    "As we can see here we set two `\"Name\"` keys and when trying to access the information it only prints the second value, not the first. This is because the second key overwites the first key value.\n",
    "\n",
    "As with lists and set but unlike for tuples, dictionaries are mutable meaning that we can change, add or remove items after the dictionary has been created. We can do this in a similar way to lists and how we access individual items. For example:\n",
    "\n"
   ]
  },
  {
   "cell_type": "code",
   "execution_count": null,
   "metadata": {},
   "outputs": [],
   "source": [
    "#create the dictionary\n",
    "car1 = {\"Make\":\"Ford\",\n",
    "       \"Model\":\"Focus\",\n",
    "       \"year\":2012}\n",
    "\n",
    "#print the original year\n",
    "print(car1[\"year\"])\n",
    "\n",
    "#change the year\n",
    "car1[\"year\"] = 2013\n",
    "\n",
    "#print the new car year\n",
    "print(car1[\"year\"])\n",
    "\n",
    "#add new information key\n",
    "car1[\"Owner\"] = \"Jake Hargreave\"\n",
    "\n",
    "#print updated car ifnormation\n",
    "print(car1)\n",
    "\n",
    "#or we can add another dictionary to the existing dictionary using the update function\n",
    "#this will be added to the end of the existing dictionary\n",
    "car1.update({\"color\":\"yellow\"})\n",
    "#this can also be used to update an existing key:value pair\n",
    "\n",
    "#print updated versino\n",
    "print(car1)"
   ]
  },
  {
   "cell_type": "markdown",
   "metadata": {},
   "source": [
    "Thus, we can see that we can see that we can change the information contained in a dictionary. We can also remove information from a dictionary in a similar way that we would for a list:"
   ]
  },
  {
   "cell_type": "code",
   "execution_count": null,
   "metadata": {},
   "outputs": [],
   "source": [
    "scores = {\"Steve\":68,\n",
    "         \"Juliet\":74,\n",
    "         \"William\":52,\n",
    "         \"Jessica\":48,\n",
    "         \"Peter\":82,\n",
    "         \"Holly\":90}\n",
    "\n",
    "#we can use the del method\n",
    "del scores[\"Steve\"]\n",
    "#although be careful as if you don't specify the key you can delete the whole dictionary\n",
    "\n",
    "print(scores)\n",
    "\n",
    "#we can also use the pop method\n",
    "scores.pop(\"William\")\n",
    "\n",
    "print(scores)\n",
    "\n",
    "#or popitem removes the last time (although in versinos before Python 3.7 the removes a random item)\n",
    "scores.popitem()\n",
    "\n",
    "print(scores)\n",
    "\n",
    "#or we could empty the entire dictionary\n",
    "scores.clear()\n",
    "\n",
    "print(scores)"
   ]
  },
  {
   "cell_type": "markdown",
   "metadata": {},
   "source": [
    "Dictionaries, as lists, can also contain any datatype you want it to contain. As we've already seen it can take a string or an integer, but dictionaries can also take floats, lists or even dictionaries, along with different types within the same dictionary:"
   ]
  },
  {
   "cell_type": "code",
   "execution_count": null,
   "metadata": {},
   "outputs": [],
   "source": [
    "mixed_dict = {\"number\":52,\n",
    "             \"float\":3.49,\n",
    "             \"string\":\"Hello world\",\n",
    "             \"list\":[12, \"Cheese\", \"Orange\", 52],\n",
    "             \"Dictionary\":{\"Name\":\"Jemma\",\n",
    "                          \"Age\":23,\n",
    "                           \"Job\":\"Scientist\"}}\n",
    "\n",
    "#can you figure out how to access each of these?\n",
    "\n",
    "#accesing the float?\n",
    "\n",
    "#accessing the second value in the list?\n",
    "\n",
    "#accessing the age from the dictionary?"
   ]
  },
  {
   "cell_type": "markdown",
   "metadata": {},
   "source": [
    "Finally, as with lists, we have methods that can be used for dictionaries as well:"
   ]
  },
  {
   "cell_type": "code",
   "execution_count": null,
   "metadata": {},
   "outputs": [],
   "source": [
    "dictionary = {\"Score1\":12,\n",
    "             \"Score2\":53,\n",
    "             \"Score3\":74,\n",
    "             \"Score4\":62,\n",
    "             \"Score5\":88,\n",
    "             \"Score6\":34}\n",
    "\n",
    "#access all the keys from the dictionary\n",
    "print(dictionary.keys())\n",
    "\n",
    "#access all the values form the dictionary\n",
    "print(dictionary.values())\n",
    "\n",
    "#access a tuple for each key value pair\n",
    "print(dictionary.items())\n",
    "\n",
    "#get the length of the dictionary\n",
    "print(len(dictionary))"
   ]
  },
  {
   "cell_type": "markdown",
   "metadata": {},
   "source": [
    "Thus, we have covered the main parts of a dictionary. The benefits of these are that you can assign information to them based on an individual key, for example if you had linked lists of names, scores and ages you could create a dictionary with each of these keys and lists for each. Alternatively if you had many cars and there was defined information for them you could create dictionaries for each of them with the keys representing the basic information. They also lay the foundation for more complex data storage methods such as pandas dataframes, JSON or others."
   ]
  }
 ],
 "metadata": {
  "kernelspec": {
   "display_name": "DSS",
   "language": "python",
   "name": "dss"
  },
  "language_info": {
   "codemirror_mode": {
    "name": "ipython",
    "version": 3
   },
   "file_extension": ".py",
   "mimetype": "text/x-python",
   "name": "python",
   "nbconvert_exporter": "python",
   "pygments_lexer": "ipython3",
   "version": "3.8.3"
  }
 },
 "nbformat": 4,
 "nbformat_minor": 2
}
